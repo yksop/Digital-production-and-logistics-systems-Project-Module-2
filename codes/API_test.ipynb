{
 "cells": [
  {
   "cell_type": "code",
   "execution_count": 6,
   "metadata": {},
   "outputs": [],
   "source": [
    "# uncomment the lines that follow on the first time you run this script\n",
    "# %pip install googlemaps\n",
    "# %pip install googlemaps python-dotenv\n",
    "\n",
    "import googlemaps\n",
    "from datetime import datetime\n",
    "from dotenv import load_dotenv\n",
    "import os\n",
    "\n",
    "load_dotenv()\n",
    "\n",
    "api_key = os.getenv(\"GOOGLE_MAPS_API_KEY\")\n",
    "\n",
    "gmaps = googlemaps.Client(key=api_key)\n",
    "\n",
    "# Geocoding an address\n",
    "geocode_result = gmaps.geocode(\"1600 Amphitheatre Parkway, Mountain View, CA\")\n",
    "\n",
    "# Look up an address with reverse geocoding\n",
    "reverse_geocode_result = gmaps.reverse_geocode((40.714224, -73.961452))\n",
    "\n",
    "# Request directions via public transit\n",
    "now = datetime.now()\n",
    "directions_result = gmaps.directions(\n",
    "    \"Sydney Town Hall\", \"Parramatta, NSW\", mode=\"transit\", departure_time=now\n",
    ")\n",
    "\n",
    "# Validate an address with address validation\n",
    "addressvalidation_result = gmaps.addressvalidation(\n",
    "    [\"1600 Amphitheatre Pk\"],\n",
    "    regionCode=\"US\",\n",
    "    locality=\"Mountain View\",\n",
    "    enableUspsCass=True,\n",
    ")\n",
    "\n",
    "# Get an Address Descriptor of a location in the reverse geocoding response\n",
    "address_descriptor_result = gmaps.reverse_geocode((40.714224, -73.961452))"
   ]
  }
 ],
 "metadata": {
  "kernelspec": {
   "display_name": "Python 3",
   "language": "python",
   "name": "python3"
  },
  "language_info": {
   "codemirror_mode": {
    "name": "ipython",
    "version": 3
   },
   "file_extension": ".py",
   "mimetype": "text/x-python",
   "name": "python",
   "nbconvert_exporter": "python",
   "pygments_lexer": "ipython3",
   "version": "3.11.9"
  }
 },
 "nbformat": 4,
 "nbformat_minor": 2
}
