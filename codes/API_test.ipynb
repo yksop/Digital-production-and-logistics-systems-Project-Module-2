{
 "cells": [
  {
   "cell_type": "code",
   "execution_count": null,
   "metadata": {},
   "outputs": [
    {
     "name": "stdout",
     "output_type": "stream",
     "text": [
      "Requirement already satisfied: googlemaps in c:\\users\\posky\\documents\\universita\\pilati\\my_env\\lib\\site-packages (4.10.0)\n",
      "Requirement already satisfied: requests<3.0,>=2.20.0 in c:\\users\\posky\\documents\\universita\\pilati\\my_env\\lib\\site-packages (from googlemaps) (2.32.3)\n",
      "Requirement already satisfied: idna<4,>=2.5 in c:\\users\\posky\\documents\\universita\\pilati\\my_env\\lib\\site-packages (from requests<3.0,>=2.20.0->googlemaps) (3.10)\n",
      "Requirement already satisfied: certifi>=2017.4.17 in c:\\users\\posky\\documents\\universita\\pilati\\my_env\\lib\\site-packages (from requests<3.0,>=2.20.0->googlemaps) (2024.8.30)\n",
      "Requirement already satisfied: charset-normalizer<4,>=2 in c:\\users\\posky\\documents\\universita\\pilati\\my_env\\lib\\site-packages (from requests<3.0,>=2.20.0->googlemaps) (3.4.0)\n",
      "Requirement already satisfied: urllib3<3,>=1.21.1 in c:\\users\\posky\\documents\\universita\\pilati\\my_env\\lib\\site-packages (from requests<3.0,>=2.20.0->googlemaps) (2.2.3)\n",
      "Note: you may need to restart the kernel to use updated packages.\n"
     ]
    },
    {
     "name": "stderr",
     "output_type": "stream",
     "text": [
      "\n",
      "[notice] A new release of pip is available: 23.0.1 -> 24.3.1\n",
      "[notice] To update, run: python.exe -m pip install --upgrade pip\n",
      "\n",
      "[notice] A new release of pip is available: 23.0.1 -> 24.3.1\n",
      "[notice] To update, run: python.exe -m pip install --upgrade pip\n"
     ]
    },
    {
     "name": "stdout",
     "output_type": "stream",
     "text": [
      "Requirement already satisfied: googlemaps in c:\\users\\posky\\documents\\universita\\pilati\\my_env\\lib\\site-packages (4.10.0)Note: you may need to restart the kernel to use updated packages.\n",
      "\n",
      "Requirement already satisfied: python-dotenv in c:\\users\\posky\\documents\\universita\\pilati\\my_env\\lib\\site-packages (1.0.1)\n",
      "Requirement already satisfied: requests<3.0,>=2.20.0 in c:\\users\\posky\\documents\\universita\\pilati\\my_env\\lib\\site-packages (from googlemaps) (2.32.3)\n",
      "Requirement already satisfied: idna<4,>=2.5 in c:\\users\\posky\\documents\\universita\\pilati\\my_env\\lib\\site-packages (from requests<3.0,>=2.20.0->googlemaps) (3.10)\n",
      "Requirement already satisfied: certifi>=2017.4.17 in c:\\users\\posky\\documents\\universita\\pilati\\my_env\\lib\\site-packages (from requests<3.0,>=2.20.0->googlemaps) (2024.8.30)\n",
      "Requirement already satisfied: charset-normalizer<4,>=2 in c:\\users\\posky\\documents\\universita\\pilati\\my_env\\lib\\site-packages (from requests<3.0,>=2.20.0->googlemaps) (3.4.0)\n",
      "Requirement already satisfied: urllib3<3,>=1.21.1 in c:\\users\\posky\\documents\\universita\\pilati\\my_env\\lib\\site-packages (from requests<3.0,>=2.20.0->googlemaps) (2.2.3)\n"
     ]
    }
   ],
   "source": [
    "# uncomment the lines that follow on the first time you run this script\n",
    "# %pip install googlemaps\n",
    "# %pip install googlemaps python-dotenv\n",
    "\n",
    "import googlemaps\n",
    "from datetime import datetime\n",
    "from dotenv import load_dotenv\n",
    "import os\n",
    "\n",
    "load_dotenv()\n",
    "\n",
    "api_key = os.getenv(\"GOOGLE_MAPS_API_KEY\")\n",
    "\n",
    "gmaps = googlemaps.Client(key=api_key)\n",
    "\n",
    "# Geocoding an address\n",
    "geocode_result = gmaps.geocode(\"1600 Amphitheatre Parkway, Mountain View, CA\")\n",
    "\n",
    "# Look up an address with reverse geocoding\n",
    "reverse_geocode_result = gmaps.reverse_geocode((40.714224, -73.961452))\n",
    "\n",
    "# Request directions via public transit\n",
    "now = datetime.now()\n",
    "directions_result = gmaps.directions(\n",
    "    \"Sydney Town Hall\", \"Parramatta, NSW\", mode=\"transit\", departure_time=now\n",
    ")\n",
    "\n",
    "# Validate an address with address validation\n",
    "addressvalidation_result = gmaps.addressvalidation(\n",
    "    [\"1600 Amphitheatre Pk\"],\n",
    "    regionCode=\"US\",\n",
    "    locality=\"Mountain View\",\n",
    "    enableUspsCass=True,\n",
    ")\n",
    "\n",
    "# Get an Address Descriptor of a location in the reverse geocoding response\n",
    "address_descriptor_result = gmaps.reverse_geocode((40.714224, -73.961452))"
   ]
  }
 ],
 "metadata": {
  "kernelspec": {
   "display_name": "my_env",
   "language": "python",
   "name": "python3"
  },
  "language_info": {
   "codemirror_mode": {
    "name": "ipython",
    "version": 3
   },
   "file_extension": ".py",
   "mimetype": "text/x-python",
   "name": "python",
   "nbconvert_exporter": "python",
   "pygments_lexer": "ipython3",
   "version": "3.10.11"
  }
 },
 "nbformat": 4,
 "nbformat_minor": 2
}
